{
 "cells": [
  {
   "cell_type": "markdown",
   "id": "926da9eb-d536-45aa-b7c6-f989a1b55345",
   "metadata": {},
   "source": [
    "<img src = \"images/3.JPG\">"
   ]
  },
  {
   "cell_type": "code",
   "execution_count": 8,
   "id": "f9fa9f2f-148b-4181-9cb3-4d406c6f2ae7",
   "metadata": {},
   "outputs": [
    {
     "name": "stdin",
     "output_type": "stream",
     "text": [
      " 5\n"
     ]
    },
    {
     "name": "stdout",
     "output_type": "stream",
     "text": [
      "0.951229\n"
     ]
    }
   ],
   "source": [
    "import math\n",
    "N = float(input())\n",
    "lamb = 0.01\n",
    "\n",
    "print('%.6f' % round(lamb * math.exp(-(lamb * N)) * 100, 6))"
   ]
  },
  {
   "cell_type": "code",
   "execution_count": null,
   "id": "ddc49580-1ac6-4f63-93c6-2c0b4668cfcc",
   "metadata": {},
   "outputs": [],
   "source": []
  }
 ],
 "metadata": {
  "kernelspec": {
   "display_name": "Python 3 (ipykernel)",
   "language": "python",
   "name": "python3"
  },
  "language_info": {
   "codemirror_mode": {
    "name": "ipython",
    "version": 3
   },
   "file_extension": ".py",
   "mimetype": "text/x-python",
   "name": "python",
   "nbconvert_exporter": "python",
   "pygments_lexer": "ipython3",
   "version": "3.9.7"
  }
 },
 "nbformat": 4,
 "nbformat_minor": 5
}
