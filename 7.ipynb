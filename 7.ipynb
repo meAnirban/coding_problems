{
 "cells": [
  {
   "cell_type": "code",
   "execution_count": 13,
   "id": "ad8b2087-0b5d-4270-97bf-88c7ed5c831b",
   "metadata": {},
   "outputs": [
    {
     "name": "stdout",
     "output_type": "stream",
     "text": [
      "484\n"
     ]
    }
   ],
   "source": [
    "\n",
    "\n",
    "def palindrome(str_num):\n",
    "    if str_num == str_num[::-1]:\n",
    "        return True\n",
    "    return False\n",
    "\n",
    "class Solution:\n",
    "    def closestPalindrome(self, num):\n",
    "        num_positive = num_negative = num\n",
    "        diff = 0\n",
    "        not_found = True\n",
    "        while not_found:\n",
    "            if palindrome(str(num)):\n",
    "                not_found = False\n",
    "                return num\n",
    "            num_positive = num_positive + 1\n",
    "            num_negative = num_negative - 1\n",
    "            diff += 1\n",
    "            if palindrome(str(num_positive)) and palindrome(str(num_negative)):\n",
    "                not_found = False\n",
    "                return num_negative\n",
    "            elif palindrome(str(num_positive)):\n",
    "                not_found = False\n",
    "                return num_positive\n",
    "            elif palindrome(str(num_negative)):\n",
    "                not_found = False\n",
    "                return num_negative\n",
    "                \n",
    "            \n",
    "    \n"
   ]
  },
  {
   "cell_type": "code",
   "execution_count": 10,
   "id": "6aa56842-da02-4295-9d25-034f09b26aea",
   "metadata": {},
   "outputs": [
    {
     "name": "stdout",
     "output_type": "stream",
     "text": [
      "489\n"
     ]
    }
   ],
   "source": [
    "\n",
    "s = Solution()\n",
    "print(s.closestPalindrome(int(n)))"
   ]
  }
 ],
 "metadata": {
  "kernelspec": {
   "display_name": "Python 3 (ipykernel)",
   "language": "python",
   "name": "python3"
  },
  "language_info": {
   "codemirror_mode": {
    "name": "ipython",
    "version": 3
   },
   "file_extension": ".py",
   "mimetype": "text/x-python",
   "name": "python",
   "nbconvert_exporter": "python",
   "pygments_lexer": "ipython3",
   "version": "3.9.7"
  }
 },
 "nbformat": 4,
 "nbformat_minor": 5
}
