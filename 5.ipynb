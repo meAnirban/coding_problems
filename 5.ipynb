{
 "cells": [
  {
   "cell_type": "markdown",
   "id": "fd017b1b-9ff3-4e9f-8333-65f16282572f",
   "metadata": {},
   "source": [
    "<img src = \"images/5.JPG\">"
   ]
  },
  {
   "cell_type": "code",
   "execution_count": 4,
   "id": "94d1f899-0dca-452c-8d87-bac2f335d437",
   "metadata": {},
   "outputs": [
    {
     "name": "stdin",
     "output_type": "stream",
     "text": [
      " zzzoooooo\n"
     ]
    },
    {
     "name": "stdout",
     "output_type": "stream",
     "text": [
      "Yes\n"
     ]
    }
   ],
   "source": [
    "word = str(input())\n",
    "x = 0\n",
    "y = 0\n",
    "\n",
    "for char in word:\n",
    "    if char == 'z':\n",
    "        x += 1\n",
    "    if char == 'o':\n",
    "        y += 1\n",
    "\n",
    "if 2 * x == y and len(word) < 20:\n",
    "    print('Yes')\n",
    "else:\n",
    "    print('No')"
   ]
  },
  {
   "cell_type": "code",
   "execution_count": null,
   "id": "0c78a509-aaf3-4f11-9a4a-3779e03b9195",
   "metadata": {},
   "outputs": [],
   "source": []
  },
  {
   "cell_type": "code",
   "execution_count": null,
   "id": "d8558098-0248-482d-9b0a-5876359a3c9b",
   "metadata": {},
   "outputs": [],
   "source": []
  }
 ],
 "metadata": {
  "kernelspec": {
   "display_name": "Python 3 (ipykernel)",
   "language": "python",
   "name": "python3"
  },
  "language_info": {
   "codemirror_mode": {
    "name": "ipython",
    "version": 3
   },
   "file_extension": ".py",
   "mimetype": "text/x-python",
   "name": "python",
   "nbconvert_exporter": "python",
   "pygments_lexer": "ipython3",
   "version": "3.9.7"
  }
 },
 "nbformat": 4,
 "nbformat_minor": 5
}
