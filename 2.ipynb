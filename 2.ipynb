{
 "cells": [
  {
   "cell_type": "markdown",
   "id": "4b12d8bd-ce65-4847-96a3-fc9d7e070ba7",
   "metadata": {},
   "source": [
    "<img src=\"images/2.JPG\">"
   ]
  },
  {
   "cell_type": "code",
   "execution_count": 3,
   "id": "e4b32c74-0ea3-4744-a293-28f15469cea9",
   "metadata": {},
   "outputs": [
    {
     "name": "stdin",
     "output_type": "stream",
     "text": [
      " 0.2\n",
      " 0.3\n",
      " 10\n"
     ]
    }
   ],
   "source": [
    "p_ct = float(input())\n",
    "p_ot = float(input())\n",
    "N = float(input())"
   ]
  },
  {
   "cell_type": "markdown",
   "id": "5dda11a2-5661-46e0-a92c-8cd661e58c0a",
   "metadata": {},
   "source": [
    "p(train) = 1 - p(car) = p_ct\\\n",
    "p(car) = 1- p_ct\\\n",
    "p(on time | train) = 2 / N\\\n",
    "\n",
    "p(on time) = p_ot + p_ct * p(on time | train)\n"
   ]
  },
  {
   "cell_type": "code",
   "execution_count": 5,
   "id": "75033c45-3924-4692-9328-67a78d0093c8",
   "metadata": {},
   "outputs": [
    {
     "name": "stdout",
     "output_type": "stream",
     "text": [
      "0.280000\n"
     ]
    }
   ],
   "source": [
    "p_on_time = (1 - p_ct) * p_ot + p_ct * (2 / N)\n",
    "print('%.6f' % round(p_on_time, 6))"
   ]
  },
  {
   "cell_type": "code",
   "execution_count": null,
   "id": "69bf3f90-76a1-4927-929a-53d5235276fa",
   "metadata": {},
   "outputs": [],
   "source": []
  }
 ],
 "metadata": {
  "kernelspec": {
   "display_name": "Python 3 (ipykernel)",
   "language": "python",
   "name": "python3"
  },
  "language_info": {
   "codemirror_mode": {
    "name": "ipython",
    "version": 3
   },
   "file_extension": ".py",
   "mimetype": "text/x-python",
   "name": "python",
   "nbconvert_exporter": "python",
   "pygments_lexer": "ipython3",
   "version": "3.9.7"
  }
 },
 "nbformat": 4,
 "nbformat_minor": 5
}
