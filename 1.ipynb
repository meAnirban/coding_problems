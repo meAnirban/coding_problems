{
 "cells": [
  {
   "cell_type": "markdown",
   "id": "3bb316b7-60a3-4b2b-843f-ec20a9c56724",
   "metadata": {},
   "source": [
    "<img src=\"images/1.JPG\">"
   ]
  },
  {
   "cell_type": "code",
   "execution_count": 12,
   "id": "0c8b9285-17de-4254-876b-de21145fb2a6",
   "metadata": {},
   "outputs": [
    {
     "name": "stdin",
     "output_type": "stream",
     "text": [
      "pmb probability : 0.2\n",
      "pab probability : 0.2\n",
      "p1 probability : 0.5\n"
     ]
    }
   ],
   "source": [
    "p_mb = float(input(\"pmb probability :\"))\n",
    "p_ab = float(input(\"pab probability :\"))\n",
    "p1 = float(input(\"p1 probability :\"))"
   ]
  },
  {
   "cell_type": "markdown",
   "id": "989e014e-b6c2-45b1-81e4-1bc4a2777c84",
   "metadata": {},
   "source": [
    "p(rain) \\* [p(mike | train) * p(Alice | bus) + p(mike | bus) * p(alice | train)]"
   ]
  },
  {
   "cell_type": "code",
   "execution_count": 13,
   "id": "01025407-451d-464e-a6b7-2f52d49da2ad",
   "metadata": {},
   "outputs": [],
   "source": [
    "p_mt = 1 - p_mb\n",
    "p_at = 1 - p_ab"
   ]
  },
  {
   "cell_type": "code",
   "execution_count": 14,
   "id": "27fd664d-82e9-484f-b7ea-7d507253c741",
   "metadata": {},
   "outputs": [
    {
     "name": "stdout",
     "output_type": "stream",
     "text": [
      "0.160000\n"
     ]
    }
   ],
   "source": [
    "prs = p1 * (p_mt * p_ab + p_mb * p_at)\n",
    "print(\"%.6f\" % round(prs, 6))"
   ]
  },
  {
   "cell_type": "code",
   "execution_count": null,
   "id": "0f8bcf3b-0b15-4580-8e00-8e0384bb237f",
   "metadata": {},
   "outputs": [],
   "source": []
  }
 ],
 "metadata": {
  "kernelspec": {
   "display_name": "Python 3 (ipykernel)",
   "language": "python",
   "name": "python3"
  },
  "language_info": {
   "codemirror_mode": {
    "name": "ipython",
    "version": 3
   },
   "file_extension": ".py",
   "mimetype": "text/x-python",
   "name": "python",
   "nbconvert_exporter": "python",
   "pygments_lexer": "ipython3",
   "version": "3.9.7"
  }
 },
 "nbformat": 4,
 "nbformat_minor": 5
}
