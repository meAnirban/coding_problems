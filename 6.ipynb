{
 "cells": [
  {
   "cell_type": "markdown",
   "id": "03af6ece-bcf1-4c74-aa12-5bd7b63e745a",
   "metadata": {},
   "source": [
    "<img src = 'images/6.JPG'>"
   ]
  },
  {
   "cell_type": "code",
   "execution_count": 85,
   "id": "33214152-96c1-4e03-aaa0-9ad4d7d25cd7",
   "metadata": {},
   "outputs": [
    {
     "data": {
      "text/plain": [
       "[6, 9, -1, -3, -9, -15, -18, -5, 1, 3]"
      ]
     },
     "execution_count": 85,
     "metadata": {},
     "output_type": "execute_result"
    }
   ],
   "source": [
    "#a = [2, 1, 3, 9, 2, 4, -10, -9, 1, 3]\n",
    "N = int(input())\n",
    "a = [int(i) for i in input().split()]\n",
    "\n",
    "def find_tuple(a_list, num, best_sum):\n",
    "    if len(a_list) < num:\n",
    "        return best_sum\n",
    "    return find_tuple(a_list[num:], num +1, best_sum + sum(a_list[:num]) )\n",
    "\n",
    "best_sum_list = []\n",
    "for i in range(len(a)):\n",
    "    best_sum_list.append(find_tuple(a[i:], 1, 0))\n",
    "\n",
    "print(max(best_sum_list))"
   ]
  }
 ],
 "metadata": {
  "kernelspec": {
   "display_name": "Python 3 (ipykernel)",
   "language": "python",
   "name": "python3"
  },
  "language_info": {
   "codemirror_mode": {
    "name": "ipython",
    "version": 3
   },
   "file_extension": ".py",
   "mimetype": "text/x-python",
   "name": "python",
   "nbconvert_exporter": "python",
   "pygments_lexer": "ipython3",
   "version": "3.9.7"
  }
 },
 "nbformat": 4,
 "nbformat_minor": 5
}
