{
 "cells": [
  {
   "cell_type": "markdown",
   "id": "290ed93d-4270-4267-af4c-6b30e1daf4f8",
   "metadata": {},
   "source": [
    "<img src = 'images/4.JPG'>"
   ]
  },
  {
   "cell_type": "code",
   "execution_count": 67,
   "id": "6135f248-a5cf-4bf1-87a4-ad79b8a3458b",
   "metadata": {},
   "outputs": [
    {
     "data": {
      "text/plain": [
       "2"
      ]
     },
     "execution_count": 67,
     "metadata": {},
     "output_type": "execute_result"
    }
   ],
   "source": [
    "import numpy as np\n",
    "t = int(input())\n",
    "for _ in range(t):\n",
    "    n, m = input().split()\n",
    "    n, m = int(n), int(m)\n",
    "    tbl = []\n",
    "    for row in range(n):\n",
    "        r = list(input())\n",
    "        if len(r) == m:\n",
    "            tbl.append(r)\n",
    "    \n",
    "    tbl = np.array(tbl)\n",
    "    max_row_count = 0\n",
    "    max_col_count = 0\n",
    "    for i in range(n):\n",
    "        if '#' in tbl[i]:\n",
    "            count = 1\n",
    "        else:\n",
    "            count = 0\n",
    "        for j in range(1, m):\n",
    "            if max_col_count < count:\n",
    "                max_col_count = count\n",
    "            if tbl[i][j -1] == tbl[i][j] == '#' :\n",
    "                count += 1\n",
    "            else:\n",
    "                count = 1\n",
    "                    \n",
    "    for j in range(m):\n",
    "        if '#' in tbl[:,j]:\n",
    "            count = 1\n",
    "        else:\n",
    "            count = 0\n",
    "        for i in range(1, n):\n",
    "            if max_row_count < count:\n",
    "                max_row_count = count\n",
    "            if tbl[i - 1][j] == tbl[i][j] == '#' :\n",
    "                count += 1                    \n",
    "            else:\n",
    "                count = 1\n",
    "                \n",
    "    print(max(max_col_count, max_row_count))"
   ]
  }
 ],
 "metadata": {
  "kernelspec": {
   "display_name": "Python 3 (ipykernel)",
   "language": "python",
   "name": "python3"
  },
  "language_info": {
   "codemirror_mode": {
    "name": "ipython",
    "version": 3
   },
   "file_extension": ".py",
   "mimetype": "text/x-python",
   "name": "python",
   "nbconvert_exporter": "python",
   "pygments_lexer": "ipython3",
   "version": "3.9.7"
  }
 },
 "nbformat": 4,
 "nbformat_minor": 5
}
